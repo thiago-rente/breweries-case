{
 "cells": [
  {
   "cell_type": "code",
   "execution_count": 1,
   "metadata": {},
   "outputs": [],
   "source": [
    "from pyspark.sql import SparkSession\n",
    "from pyspark.sql.functions import *"
   ]
  },
  {
   "cell_type": "code",
   "execution_count": 2,
   "metadata": {},
   "outputs": [],
   "source": [
    "spark = (\n",
    "        SparkSession.builder\n",
    "            .master(\"spark://spark1:7077\")\n",
    "            .appName(\"bronze_to_silver\")\n",
    "            ## Config Fields\n",
    "            .config('spark.sql.debug.maxToStringFields', 5000)\n",
    "            .config('spark.debug.maxToStringFields', 5000)\n",
    "            ## Optimize\n",
    "            .config(\"delta.autoOptimize.optimizeWrite\", \"true\")\n",
    "            .config(\"delta.autoOptimize.autoCompact\", \"true\")\n",
    "            ## Delta Table\n",
    "            .config(\"spark.jars.packages\", \"org.apache.hadoop:hadoop-aws:3.3.4,io.delta:delta-spark_2.12:3.2.0\")\n",
    "            .config(\"spark.sql.extensions\", \"io.delta.sql.DeltaSparkSessionExtension\")\n",
    "            .config(\"spark.sql.catalog.spark_catalog\", \"org.apache.spark.sql.delta.catalog.DeltaCatalog\")\n",
    "            ## MinIO\n",
    "            .config(\"spark.hadoop.fs.s3a.proxy.host\", \"minio1\")\n",
    "            .config(\"spark.hadoop.fs.s3a.proxy.port\", \"9000\")\n",
    "            .config(\"spark.hadoop.fs.s3a.access.key\", \"brew\")\n",
    "            .config(\"spark.hadoop.fs.s3a.secret.key\", \"brew4321\")\n",
    "            .config(\"spark.hadoop.fs.s3a.path.style.access\", \"true\")\n",
    "            .config(\"spark.hadoop.fs.s3a.connection.ssl.enabled\", \"false\")\n",
    "            .config(\"spark.hadoop.fs.s3a.impl\", \"org.apache.hadoop.fs.s3a.S3AFileSystem\")\n",
    "            .config(\"spark.hadoop.fs.s3a.connection.estabilish.timeout\", \"5000\")\n",
    "            ## Hive SQL\n",
    "            .enableHiveSupport()\n",
    "            .getOrCreate()\n",
    "    )"
   ]
  },
  {
   "cell_type": "code",
   "execution_count": 3,
   "metadata": {},
   "outputs": [
    {
     "data": {
      "text/html": [
       "\n",
       "            <div>\n",
       "                <p><b>SparkSession - hive</b></p>\n",
       "                \n",
       "        <div>\n",
       "            <p><b>SparkContext</b></p>\n",
       "\n",
       "            <p><a href=\"http://jupyter:4040\">Spark UI</a></p>\n",
       "\n",
       "            <dl>\n",
       "              <dt>Version</dt>\n",
       "                <dd><code>v3.5.0</code></dd>\n",
       "              <dt>Master</dt>\n",
       "                <dd><code>spark://spark1:7077</code></dd>\n",
       "              <dt>AppName</dt>\n",
       "                <dd><code>bronze_to_silver</code></dd>\n",
       "            </dl>\n",
       "        </div>\n",
       "        \n",
       "            </div>\n",
       "        "
      ],
      "text/plain": [
       "<pyspark.sql.session.SparkSession at 0x7f33d85900d0>"
      ]
     },
     "execution_count": 3,
     "metadata": {},
     "output_type": "execute_result"
    }
   ],
   "source": [
    "spark"
   ]
  },
  {
   "cell_type": "code",
   "execution_count": 4,
   "metadata": {},
   "outputs": [],
   "source": [
    "source_bucket = \"bronze\"\n",
    "prefix_bucket = \"breweries\"\n",
    "source_path = f\"s3a://{source_bucket}/{prefix_bucket}/\""
   ]
  },
  {
   "cell_type": "code",
   "execution_count": 5,
   "metadata": {},
   "outputs": [],
   "source": [
    "bronze_data = spark.read.format('json').load(source_path)"
   ]
  },
  {
   "cell_type": "code",
   "execution_count": 6,
   "metadata": {},
   "outputs": [
    {
     "name": "stdout",
     "output_type": "stream",
     "text": [
      "root\n",
      " |-- _corrupt_record: string (nullable = true)\n",
      " |-- address_1: string (nullable = true)\n",
      " |-- address_2: string (nullable = true)\n",
      " |-- address_3: string (nullable = true)\n",
      " |-- brewery_type: string (nullable = true)\n",
      " |-- city: string (nullable = true)\n",
      " |-- country: string (nullable = true)\n",
      " |-- id: string (nullable = true)\n",
      " |-- latitude: string (nullable = true)\n",
      " |-- longitude: string (nullable = true)\n",
      " |-- name: string (nullable = true)\n",
      " |-- phone: string (nullable = true)\n",
      " |-- postal_code: string (nullable = true)\n",
      " |-- state: string (nullable = true)\n",
      " |-- state_province: string (nullable = true)\n",
      " |-- street: string (nullable = true)\n",
      " |-- website_url: string (nullable = true)\n",
      "\n"
     ]
    }
   ],
   "source": [
    "bronze_data.printSchema()"
   ]
  },
  {
   "cell_type": "code",
   "execution_count": 7,
   "metadata": {},
   "outputs": [
    {
     "data": {
      "text/plain": [
       "[Row(_corrupt_record=None, address_1='1716 Topeka St', address_2=None, address_3=None, brewery_type='micro', city='Norman', country='United States', id='5128df48-79fc-4f0f-8b52-d06be54d0cec', latitude='35.25738891', longitude='-97.46818222', name='(405) Brewing Co', phone='4058160490', postal_code='73069-8224', state='Oklahoma', state_province='Oklahoma', street='1716 Topeka St', website_url='http://www.405brewing.com'),\n",
       " Row(_corrupt_record=None, address_1='407 Radam Ln Ste F200', address_2=None, address_3=None, brewery_type='micro', city='Austin', country='United States', id='9c5a66c8-cc13-416f-a5d9-0a769c87d318', latitude=None, longitude=None, name='(512) Brewing Co', phone='5129211545', postal_code='78745-1197', state='Texas', state_province='Texas', street='407 Radam Ln Ste F200', website_url='http://www.512brewing.com'),\n",
       " Row(_corrupt_record=None, address_1='8100 Washington Ave', address_2=None, address_3=None, brewery_type='micro', city='Mount Pleasant', country='United States', id='34e8c68b-6146-453f-a4b9-1f6cd99a5ada', latitude='42.72010826899558', longitude='-87.88336350209435', name='1 of Us Brewing Company', phone='2624847553', postal_code='53406-3920', state='Wisconsin', state_province='Wisconsin', street='8100 Washington Ave', website_url='https://www.1ofusbrewing.com'),\n",
       " Row(_corrupt_record=None, address_1='1501 E St', address_2=None, address_3=None, brewery_type='large', city='San Diego', country='United States', id='ef970757-fe42-416f-931d-722451f1f59c', latitude='32.714813', longitude='-117.129593', name='10 Barrel Brewing Co', phone='6195782311', postal_code='92101-6618', state='California', state_province='California', street='1501 E St', website_url='http://10barrel.com'),\n",
       " Row(_corrupt_record=None, address_1='62970 18th St', address_2=None, address_3=None, brewery_type='large', city='Bend', country='United States', id='6d14b220-8926-4521-8d19-b98a2d6ec3db', latitude='44.08683531', longitude='-121.281706', name='10 Barrel Brewing Co', phone='5415851007', postal_code='97701-9847', state='Oregon', state_province='Oregon', street='62970 18th St', website_url='http://www.10barrel.com')]"
      ]
     },
     "metadata": {},
     "output_type": "display_data"
    }
   ],
   "source": [
    "display(bronze_data.where('state = state_province').head(5))"
   ]
  },
  {
   "cell_type": "code",
   "execution_count": 8,
   "metadata": {},
   "outputs": [],
   "source": [
    "target_bucket = \"silver\"\n",
    "prefix_bucket = \"breweries\"\n",
    "target_path = f\"s3a://{target_bucket}/{prefix_bucket}/\""
   ]
  },
  {
   "cell_type": "code",
   "execution_count": 9,
   "metadata": {},
   "outputs": [],
   "source": [
    "bronze_data.write.mode('overwrite') \\\n",
    "    .format('delta') \\\n",
    "    .partitionBy(\"country\", \"state\", \"city\") \\\n",
    "    .save(target_path)"
   ]
  },
  {
   "cell_type": "code",
   "execution_count": 8,
   "metadata": {},
   "outputs": [],
   "source": [
    "spark.stop()"
   ]
  }
 ],
 "metadata": {
  "kernelspec": {
   "display_name": "Python 3 (ipykernel)",
   "language": "python",
   "name": "python3"
  },
  "language_info": {
   "codemirror_mode": {
    "name": "ipython",
    "version": 3
   },
   "file_extension": ".py",
   "mimetype": "text/x-python",
   "name": "python",
   "nbconvert_exporter": "python",
   "pygments_lexer": "ipython3",
   "version": "3.11.6"
  }
 },
 "nbformat": 4,
 "nbformat_minor": 2
}
